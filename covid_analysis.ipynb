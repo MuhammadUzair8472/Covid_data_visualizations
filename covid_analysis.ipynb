{
 "cells": [
  {
   "cell_type": "code",
   "execution_count": 50,
   "id": "9bc678ed-ea6a-450e-a777-04aa6c200faa",
   "metadata": {},
   "outputs": [],
   "source": [
    "import numpy as np\n",
    "import pandas as pd \n",
    "import matplotlib.pyplot as plt \n"
   ]
  },
  {
   "cell_type": "markdown",
   "id": "3bc4ab9e-05c6-4933-a129-de6d86f1af66",
   "metadata": {},
   "source": [
    "### Load data "
   ]
  },
  {
   "cell_type": "code",
   "execution_count": 51,
   "id": "b27879ac-bc29-4c45-b2b6-1e2c661b531b",
   "metadata": {},
   "outputs": [],
   "source": [
    "df = pd.read_csv('owid-covid-data.csv')"
   ]
  },
  {
   "cell_type": "markdown",
   "id": "ca3cf694-33be-4bb9-9ada-5c542de9f7cf",
   "metadata": {},
   "source": [
    "### Show shape and column names"
   ]
  },
  {
   "cell_type": "code",
   "execution_count": 52,
   "id": "94efc2a9-664b-4b56-b037-a33fc16c35a9",
   "metadata": {},
   "outputs": [
    {
     "data": {
      "text/plain": [
       "(429435, 67)"
      ]
     },
     "execution_count": 52,
     "metadata": {},
     "output_type": "execute_result"
    }
   ],
   "source": [
    "df.shape"
   ]
  },
  {
   "cell_type": "code",
   "execution_count": 53,
   "id": "bb5b4032-df4a-425e-842d-f19127485a8b",
   "metadata": {},
   "outputs": [
    {
     "data": {
      "text/plain": [
       "Index(['iso_code', 'continent', 'location', 'date', 'total_cases', 'new_cases',\n",
       "       'new_cases_smoothed', 'total_deaths', 'new_deaths',\n",
       "       'new_deaths_smoothed', 'total_cases_per_million',\n",
       "       'new_cases_per_million', 'new_cases_smoothed_per_million',\n",
       "       'total_deaths_per_million', 'new_deaths_per_million',\n",
       "       'new_deaths_smoothed_per_million', 'reproduction_rate', 'icu_patients',\n",
       "       'icu_patients_per_million', 'hosp_patients',\n",
       "       'hosp_patients_per_million', 'weekly_icu_admissions',\n",
       "       'weekly_icu_admissions_per_million', 'weekly_hosp_admissions',\n",
       "       'weekly_hosp_admissions_per_million', 'total_tests', 'new_tests',\n",
       "       'total_tests_per_thousand', 'new_tests_per_thousand',\n",
       "       'new_tests_smoothed', 'new_tests_smoothed_per_thousand',\n",
       "       'positive_rate', 'tests_per_case', 'tests_units', 'total_vaccinations',\n",
       "       'people_vaccinated', 'people_fully_vaccinated', 'total_boosters',\n",
       "       'new_vaccinations', 'new_vaccinations_smoothed',\n",
       "       'total_vaccinations_per_hundred', 'people_vaccinated_per_hundred',\n",
       "       'people_fully_vaccinated_per_hundred', 'total_boosters_per_hundred',\n",
       "       'new_vaccinations_smoothed_per_million',\n",
       "       'new_people_vaccinated_smoothed',\n",
       "       'new_people_vaccinated_smoothed_per_hundred', 'stringency_index',\n",
       "       'population_density', 'median_age', 'aged_65_older', 'aged_70_older',\n",
       "       'gdp_per_capita', 'extreme_poverty', 'cardiovasc_death_rate',\n",
       "       'diabetes_prevalence', 'female_smokers', 'male_smokers',\n",
       "       'handwashing_facilities', 'hospital_beds_per_thousand',\n",
       "       'life_expectancy', 'human_development_index', 'population',\n",
       "       'excess_mortality_cumulative_absolute', 'excess_mortality_cumulative',\n",
       "       'excess_mortality', 'excess_mortality_cumulative_per_million'],\n",
       "      dtype='object')"
      ]
     },
     "execution_count": 53,
     "metadata": {},
     "output_type": "execute_result"
    }
   ],
   "source": [
    "df.columns"
   ]
  },
  {
   "cell_type": "markdown",
   "id": "a369a842-40f3-4db8-96c1-01a1ac20f0e2",
   "metadata": {},
   "source": [
    "### Needed Columns"
   ]
  },
  {
   "cell_type": "code",
   "execution_count": 54,
   "id": "e2e14e93-04fe-4585-842c-c7b2e2d5e0c4",
   "metadata": {},
   "outputs": [],
   "source": [
    "columns_needed = ['date' , 'location' , 'total_deaths','population','continent','total_vaccinations']\n",
    "\n",
    "df = df[columns_needed]"
   ]
  },
  {
   "cell_type": "code",
   "execution_count": 55,
   "id": "427235a8-51c0-453d-9c0b-0f1925536da5",
   "metadata": {},
   "outputs": [
    {
     "data": {
      "text/html": [
       "<div>\n",
       "<style scoped>\n",
       "    .dataframe tbody tr th:only-of-type {\n",
       "        vertical-align: middle;\n",
       "    }\n",
       "\n",
       "    .dataframe tbody tr th {\n",
       "        vertical-align: top;\n",
       "    }\n",
       "\n",
       "    .dataframe thead th {\n",
       "        text-align: right;\n",
       "    }\n",
       "</style>\n",
       "<table border=\"1\" class=\"dataframe\">\n",
       "  <thead>\n",
       "    <tr style=\"text-align: right;\">\n",
       "      <th></th>\n",
       "      <th>date</th>\n",
       "      <th>location</th>\n",
       "      <th>total_deaths</th>\n",
       "      <th>population</th>\n",
       "      <th>continent</th>\n",
       "      <th>total_vaccinations</th>\n",
       "    </tr>\n",
       "  </thead>\n",
       "  <tbody>\n",
       "    <tr>\n",
       "      <th>0</th>\n",
       "      <td>2020-01-05</td>\n",
       "      <td>Afghanistan</td>\n",
       "      <td>0.0</td>\n",
       "      <td>41128772</td>\n",
       "      <td>Asia</td>\n",
       "      <td>NaN</td>\n",
       "    </tr>\n",
       "    <tr>\n",
       "      <th>1</th>\n",
       "      <td>2020-01-06</td>\n",
       "      <td>Afghanistan</td>\n",
       "      <td>0.0</td>\n",
       "      <td>41128772</td>\n",
       "      <td>Asia</td>\n",
       "      <td>NaN</td>\n",
       "    </tr>\n",
       "    <tr>\n",
       "      <th>2</th>\n",
       "      <td>2020-01-07</td>\n",
       "      <td>Afghanistan</td>\n",
       "      <td>0.0</td>\n",
       "      <td>41128772</td>\n",
       "      <td>Asia</td>\n",
       "      <td>NaN</td>\n",
       "    </tr>\n",
       "    <tr>\n",
       "      <th>3</th>\n",
       "      <td>2020-01-08</td>\n",
       "      <td>Afghanistan</td>\n",
       "      <td>0.0</td>\n",
       "      <td>41128772</td>\n",
       "      <td>Asia</td>\n",
       "      <td>NaN</td>\n",
       "    </tr>\n",
       "    <tr>\n",
       "      <th>4</th>\n",
       "      <td>2020-01-09</td>\n",
       "      <td>Afghanistan</td>\n",
       "      <td>0.0</td>\n",
       "      <td>41128772</td>\n",
       "      <td>Asia</td>\n",
       "      <td>NaN</td>\n",
       "    </tr>\n",
       "    <tr>\n",
       "      <th>...</th>\n",
       "      <td>...</td>\n",
       "      <td>...</td>\n",
       "      <td>...</td>\n",
       "      <td>...</td>\n",
       "      <td>...</td>\n",
       "      <td>...</td>\n",
       "    </tr>\n",
       "    <tr>\n",
       "      <th>429430</th>\n",
       "      <td>2024-07-31</td>\n",
       "      <td>Zimbabwe</td>\n",
       "      <td>5740.0</td>\n",
       "      <td>16320539</td>\n",
       "      <td>Africa</td>\n",
       "      <td>NaN</td>\n",
       "    </tr>\n",
       "    <tr>\n",
       "      <th>429431</th>\n",
       "      <td>2024-08-01</td>\n",
       "      <td>Zimbabwe</td>\n",
       "      <td>5740.0</td>\n",
       "      <td>16320539</td>\n",
       "      <td>Africa</td>\n",
       "      <td>NaN</td>\n",
       "    </tr>\n",
       "    <tr>\n",
       "      <th>429432</th>\n",
       "      <td>2024-08-02</td>\n",
       "      <td>Zimbabwe</td>\n",
       "      <td>5740.0</td>\n",
       "      <td>16320539</td>\n",
       "      <td>Africa</td>\n",
       "      <td>NaN</td>\n",
       "    </tr>\n",
       "    <tr>\n",
       "      <th>429433</th>\n",
       "      <td>2024-08-03</td>\n",
       "      <td>Zimbabwe</td>\n",
       "      <td>5740.0</td>\n",
       "      <td>16320539</td>\n",
       "      <td>Africa</td>\n",
       "      <td>NaN</td>\n",
       "    </tr>\n",
       "    <tr>\n",
       "      <th>429434</th>\n",
       "      <td>2024-08-04</td>\n",
       "      <td>Zimbabwe</td>\n",
       "      <td>5740.0</td>\n",
       "      <td>16320539</td>\n",
       "      <td>Africa</td>\n",
       "      <td>NaN</td>\n",
       "    </tr>\n",
       "  </tbody>\n",
       "</table>\n",
       "<p>429435 rows × 6 columns</p>\n",
       "</div>"
      ],
      "text/plain": [
       "              date     location  total_deaths  population continent  \\\n",
       "0       2020-01-05  Afghanistan           0.0    41128772      Asia   \n",
       "1       2020-01-06  Afghanistan           0.0    41128772      Asia   \n",
       "2       2020-01-07  Afghanistan           0.0    41128772      Asia   \n",
       "3       2020-01-08  Afghanistan           0.0    41128772      Asia   \n",
       "4       2020-01-09  Afghanistan           0.0    41128772      Asia   \n",
       "...            ...          ...           ...         ...       ...   \n",
       "429430  2024-07-31     Zimbabwe        5740.0    16320539    Africa   \n",
       "429431  2024-08-01     Zimbabwe        5740.0    16320539    Africa   \n",
       "429432  2024-08-02     Zimbabwe        5740.0    16320539    Africa   \n",
       "429433  2024-08-03     Zimbabwe        5740.0    16320539    Africa   \n",
       "429434  2024-08-04     Zimbabwe        5740.0    16320539    Africa   \n",
       "\n",
       "        total_vaccinations  \n",
       "0                      NaN  \n",
       "1                      NaN  \n",
       "2                      NaN  \n",
       "3                      NaN  \n",
       "4                      NaN  \n",
       "...                    ...  \n",
       "429430                 NaN  \n",
       "429431                 NaN  \n",
       "429432                 NaN  \n",
       "429433                 NaN  \n",
       "429434                 NaN  \n",
       "\n",
       "[429435 rows x 6 columns]"
      ]
     },
     "execution_count": 55,
     "metadata": {},
     "output_type": "execute_result"
    }
   ],
   "source": [
    "df"
   ]
  },
  {
   "cell_type": "markdown",
   "id": "4a1f37ab-490b-49c9-b23f-1138eb668332",
   "metadata": {},
   "source": [
    "### Drop Rows with missing location or date"
   ]
  },
  {
   "cell_type": "code",
   "execution_count": 56,
   "id": "ca1784a4-0eaf-4cc4-8c4b-b1b7ae693dc1",
   "metadata": {},
   "outputs": [],
   "source": [
    "df = df.dropna(subset = ['location' , 'date'])"
   ]
  },
  {
   "cell_type": "code",
   "execution_count": 57,
   "id": "af379a41-48d3-4379-87da-7e397ca091db",
   "metadata": {},
   "outputs": [
    {
     "data": {
      "text/html": [
       "<div>\n",
       "<style scoped>\n",
       "    .dataframe tbody tr th:only-of-type {\n",
       "        vertical-align: middle;\n",
       "    }\n",
       "\n",
       "    .dataframe tbody tr th {\n",
       "        vertical-align: top;\n",
       "    }\n",
       "\n",
       "    .dataframe thead th {\n",
       "        text-align: right;\n",
       "    }\n",
       "</style>\n",
       "<table border=\"1\" class=\"dataframe\">\n",
       "  <thead>\n",
       "    <tr style=\"text-align: right;\">\n",
       "      <th></th>\n",
       "      <th>date</th>\n",
       "      <th>location</th>\n",
       "      <th>total_deaths</th>\n",
       "      <th>population</th>\n",
       "      <th>continent</th>\n",
       "      <th>total_vaccinations</th>\n",
       "    </tr>\n",
       "  </thead>\n",
       "  <tbody>\n",
       "    <tr>\n",
       "      <th>0</th>\n",
       "      <td>2020-01-05</td>\n",
       "      <td>Afghanistan</td>\n",
       "      <td>0.0</td>\n",
       "      <td>41128772</td>\n",
       "      <td>Asia</td>\n",
       "      <td>NaN</td>\n",
       "    </tr>\n",
       "    <tr>\n",
       "      <th>1</th>\n",
       "      <td>2020-01-06</td>\n",
       "      <td>Afghanistan</td>\n",
       "      <td>0.0</td>\n",
       "      <td>41128772</td>\n",
       "      <td>Asia</td>\n",
       "      <td>NaN</td>\n",
       "    </tr>\n",
       "    <tr>\n",
       "      <th>2</th>\n",
       "      <td>2020-01-07</td>\n",
       "      <td>Afghanistan</td>\n",
       "      <td>0.0</td>\n",
       "      <td>41128772</td>\n",
       "      <td>Asia</td>\n",
       "      <td>NaN</td>\n",
       "    </tr>\n",
       "    <tr>\n",
       "      <th>3</th>\n",
       "      <td>2020-01-08</td>\n",
       "      <td>Afghanistan</td>\n",
       "      <td>0.0</td>\n",
       "      <td>41128772</td>\n",
       "      <td>Asia</td>\n",
       "      <td>NaN</td>\n",
       "    </tr>\n",
       "    <tr>\n",
       "      <th>4</th>\n",
       "      <td>2020-01-09</td>\n",
       "      <td>Afghanistan</td>\n",
       "      <td>0.0</td>\n",
       "      <td>41128772</td>\n",
       "      <td>Asia</td>\n",
       "      <td>NaN</td>\n",
       "    </tr>\n",
       "    <tr>\n",
       "      <th>...</th>\n",
       "      <td>...</td>\n",
       "      <td>...</td>\n",
       "      <td>...</td>\n",
       "      <td>...</td>\n",
       "      <td>...</td>\n",
       "      <td>...</td>\n",
       "    </tr>\n",
       "    <tr>\n",
       "      <th>429430</th>\n",
       "      <td>2024-07-31</td>\n",
       "      <td>Zimbabwe</td>\n",
       "      <td>5740.0</td>\n",
       "      <td>16320539</td>\n",
       "      <td>Africa</td>\n",
       "      <td>NaN</td>\n",
       "    </tr>\n",
       "    <tr>\n",
       "      <th>429431</th>\n",
       "      <td>2024-08-01</td>\n",
       "      <td>Zimbabwe</td>\n",
       "      <td>5740.0</td>\n",
       "      <td>16320539</td>\n",
       "      <td>Africa</td>\n",
       "      <td>NaN</td>\n",
       "    </tr>\n",
       "    <tr>\n",
       "      <th>429432</th>\n",
       "      <td>2024-08-02</td>\n",
       "      <td>Zimbabwe</td>\n",
       "      <td>5740.0</td>\n",
       "      <td>16320539</td>\n",
       "      <td>Africa</td>\n",
       "      <td>NaN</td>\n",
       "    </tr>\n",
       "    <tr>\n",
       "      <th>429433</th>\n",
       "      <td>2024-08-03</td>\n",
       "      <td>Zimbabwe</td>\n",
       "      <td>5740.0</td>\n",
       "      <td>16320539</td>\n",
       "      <td>Africa</td>\n",
       "      <td>NaN</td>\n",
       "    </tr>\n",
       "    <tr>\n",
       "      <th>429434</th>\n",
       "      <td>2024-08-04</td>\n",
       "      <td>Zimbabwe</td>\n",
       "      <td>5740.0</td>\n",
       "      <td>16320539</td>\n",
       "      <td>Africa</td>\n",
       "      <td>NaN</td>\n",
       "    </tr>\n",
       "  </tbody>\n",
       "</table>\n",
       "<p>429435 rows × 6 columns</p>\n",
       "</div>"
      ],
      "text/plain": [
       "              date     location  total_deaths  population continent  \\\n",
       "0       2020-01-05  Afghanistan           0.0    41128772      Asia   \n",
       "1       2020-01-06  Afghanistan           0.0    41128772      Asia   \n",
       "2       2020-01-07  Afghanistan           0.0    41128772      Asia   \n",
       "3       2020-01-08  Afghanistan           0.0    41128772      Asia   \n",
       "4       2020-01-09  Afghanistan           0.0    41128772      Asia   \n",
       "...            ...          ...           ...         ...       ...   \n",
       "429430  2024-07-31     Zimbabwe        5740.0    16320539    Africa   \n",
       "429431  2024-08-01     Zimbabwe        5740.0    16320539    Africa   \n",
       "429432  2024-08-02     Zimbabwe        5740.0    16320539    Africa   \n",
       "429433  2024-08-03     Zimbabwe        5740.0    16320539    Africa   \n",
       "429434  2024-08-04     Zimbabwe        5740.0    16320539    Africa   \n",
       "\n",
       "        total_vaccinations  \n",
       "0                      NaN  \n",
       "1                      NaN  \n",
       "2                      NaN  \n",
       "3                      NaN  \n",
       "4                      NaN  \n",
       "...                    ...  \n",
       "429430                 NaN  \n",
       "429431                 NaN  \n",
       "429432                 NaN  \n",
       "429433                 NaN  \n",
       "429434                 NaN  \n",
       "\n",
       "[429435 rows x 6 columns]"
      ]
     },
     "execution_count": 57,
     "metadata": {},
     "output_type": "execute_result"
    }
   ],
   "source": [
    "df"
   ]
  },
  {
   "cell_type": "markdown",
   "id": "9964bb8c-5013-45d2-8ece-a349e9f2bf8c",
   "metadata": {},
   "source": [
    "### filter country "
   ]
  },
  {
   "cell_type": "code",
   "execution_count": 58,
   "id": "ebf3cb3e-8735-41e1-bbd7-5353d3ffb26a",
   "metadata": {},
   "outputs": [],
   "source": [
    "countries = ['Pakistan' , 'India', 'United States' ,'United kingdom' ,'Germany']\n",
    "df_countries = df[ df['location'].isin(countries)]"
   ]
  },
  {
   "cell_type": "code",
   "execution_count": 59,
   "id": "69aceffa-f04e-4bb3-88d8-9295549283fb",
   "metadata": {},
   "outputs": [],
   "source": [
    "df_countries.loc[:,'date'] = pd.to_datetime(df_countries['date'])"
   ]
  },
  {
   "cell_type": "code",
   "execution_count": 60,
   "id": "153df625-4c64-417a-af2c-7739d4117f23",
   "metadata": {},
   "outputs": [
    {
     "data": {
      "text/html": [
       "<div>\n",
       "<style scoped>\n",
       "    .dataframe tbody tr th:only-of-type {\n",
       "        vertical-align: middle;\n",
       "    }\n",
       "\n",
       "    .dataframe tbody tr th {\n",
       "        vertical-align: top;\n",
       "    }\n",
       "\n",
       "    .dataframe thead th {\n",
       "        text-align: right;\n",
       "    }\n",
       "</style>\n",
       "<table border=\"1\" class=\"dataframe\">\n",
       "  <thead>\n",
       "    <tr style=\"text-align: right;\">\n",
       "      <th></th>\n",
       "      <th>date</th>\n",
       "      <th>location</th>\n",
       "      <th>total_deaths</th>\n",
       "      <th>population</th>\n",
       "      <th>continent</th>\n",
       "      <th>total_vaccinations</th>\n",
       "    </tr>\n",
       "  </thead>\n",
       "  <tbody>\n",
       "    <tr>\n",
       "      <th>140411</th>\n",
       "      <td>2020-01-05 00:00:00</td>\n",
       "      <td>Germany</td>\n",
       "      <td>3.0</td>\n",
       "      <td>83369840</td>\n",
       "      <td>Europe</td>\n",
       "      <td>NaN</td>\n",
       "    </tr>\n",
       "    <tr>\n",
       "      <th>140412</th>\n",
       "      <td>2020-01-06 00:00:00</td>\n",
       "      <td>Germany</td>\n",
       "      <td>3.0</td>\n",
       "      <td>83369840</td>\n",
       "      <td>Europe</td>\n",
       "      <td>NaN</td>\n",
       "    </tr>\n",
       "    <tr>\n",
       "      <th>140413</th>\n",
       "      <td>2020-01-07 00:00:00</td>\n",
       "      <td>Germany</td>\n",
       "      <td>3.0</td>\n",
       "      <td>83369840</td>\n",
       "      <td>Europe</td>\n",
       "      <td>NaN</td>\n",
       "    </tr>\n",
       "    <tr>\n",
       "      <th>140414</th>\n",
       "      <td>2020-01-08 00:00:00</td>\n",
       "      <td>Germany</td>\n",
       "      <td>3.0</td>\n",
       "      <td>83369840</td>\n",
       "      <td>Europe</td>\n",
       "      <td>NaN</td>\n",
       "    </tr>\n",
       "    <tr>\n",
       "      <th>140415</th>\n",
       "      <td>2020-01-09 00:00:00</td>\n",
       "      <td>Germany</td>\n",
       "      <td>3.0</td>\n",
       "      <td>83369840</td>\n",
       "      <td>Europe</td>\n",
       "      <td>NaN</td>\n",
       "    </tr>\n",
       "  </tbody>\n",
       "</table>\n",
       "</div>"
      ],
      "text/plain": [
       "                       date location  total_deaths  population continent  \\\n",
       "140411  2020-01-05 00:00:00  Germany           3.0    83369840    Europe   \n",
       "140412  2020-01-06 00:00:00  Germany           3.0    83369840    Europe   \n",
       "140413  2020-01-07 00:00:00  Germany           3.0    83369840    Europe   \n",
       "140414  2020-01-08 00:00:00  Germany           3.0    83369840    Europe   \n",
       "140415  2020-01-09 00:00:00  Germany           3.0    83369840    Europe   \n",
       "\n",
       "        total_vaccinations  \n",
       "140411                 NaN  \n",
       "140412                 NaN  \n",
       "140413                 NaN  \n",
       "140414                 NaN  \n",
       "140415                 NaN  "
      ]
     },
     "execution_count": 60,
     "metadata": {},
     "output_type": "execute_result"
    }
   ],
   "source": [
    "df_countries.head()"
   ]
  },
  {
   "cell_type": "code",
   "execution_count": 61,
   "id": "34663305-dc49-4fa3-8d93-dbafba24317b",
   "metadata": {},
   "outputs": [
    {
     "data": {
      "text/plain": [
       "array(['Germany', 'India', 'Pakistan', 'United States'], dtype=object)"
      ]
     },
     "execution_count": 61,
     "metadata": {},
     "output_type": "execute_result"
    }
   ],
   "source": [
    "df_countries['location'].unique()"
   ]
  },
  {
   "cell_type": "code",
   "execution_count": 62,
   "id": "ee33d21c-03f2-46c1-9e49-9ff04e02a921",
   "metadata": {},
   "outputs": [
    {
     "data": {
      "text/html": [
       "<div>\n",
       "<style scoped>\n",
       "    .dataframe tbody tr th:only-of-type {\n",
       "        vertical-align: middle;\n",
       "    }\n",
       "\n",
       "    .dataframe tbody tr th {\n",
       "        vertical-align: top;\n",
       "    }\n",
       "\n",
       "    .dataframe thead th {\n",
       "        text-align: right;\n",
       "    }\n",
       "</style>\n",
       "<table border=\"1\" class=\"dataframe\">\n",
       "  <thead>\n",
       "    <tr style=\"text-align: right;\">\n",
       "      <th></th>\n",
       "      <th>date</th>\n",
       "      <th>location</th>\n",
       "      <th>total_deaths</th>\n",
       "      <th>population</th>\n",
       "      <th>continent</th>\n",
       "      <th>total_vaccinations</th>\n",
       "    </tr>\n",
       "  </thead>\n",
       "  <tbody>\n",
       "    <tr>\n",
       "      <th>290973</th>\n",
       "      <td>2020-01-05</td>\n",
       "      <td>Pakistan</td>\n",
       "      <td>0.0</td>\n",
       "      <td>235824864</td>\n",
       "      <td>Asia</td>\n",
       "      <td>NaN</td>\n",
       "    </tr>\n",
       "    <tr>\n",
       "      <th>290974</th>\n",
       "      <td>2020-01-06</td>\n",
       "      <td>Pakistan</td>\n",
       "      <td>0.0</td>\n",
       "      <td>235824864</td>\n",
       "      <td>Asia</td>\n",
       "      <td>NaN</td>\n",
       "    </tr>\n",
       "    <tr>\n",
       "      <th>290975</th>\n",
       "      <td>2020-01-07</td>\n",
       "      <td>Pakistan</td>\n",
       "      <td>0.0</td>\n",
       "      <td>235824864</td>\n",
       "      <td>Asia</td>\n",
       "      <td>NaN</td>\n",
       "    </tr>\n",
       "    <tr>\n",
       "      <th>290976</th>\n",
       "      <td>2020-01-08</td>\n",
       "      <td>Pakistan</td>\n",
       "      <td>0.0</td>\n",
       "      <td>235824864</td>\n",
       "      <td>Asia</td>\n",
       "      <td>NaN</td>\n",
       "    </tr>\n",
       "    <tr>\n",
       "      <th>290977</th>\n",
       "      <td>2020-01-09</td>\n",
       "      <td>Pakistan</td>\n",
       "      <td>0.0</td>\n",
       "      <td>235824864</td>\n",
       "      <td>Asia</td>\n",
       "      <td>NaN</td>\n",
       "    </tr>\n",
       "    <tr>\n",
       "      <th>...</th>\n",
       "      <td>...</td>\n",
       "      <td>...</td>\n",
       "      <td>...</td>\n",
       "      <td>...</td>\n",
       "      <td>...</td>\n",
       "      <td>...</td>\n",
       "    </tr>\n",
       "    <tr>\n",
       "      <th>292642</th>\n",
       "      <td>2024-07-31</td>\n",
       "      <td>Pakistan</td>\n",
       "      <td>30656.0</td>\n",
       "      <td>235824864</td>\n",
       "      <td>Asia</td>\n",
       "      <td>NaN</td>\n",
       "    </tr>\n",
       "    <tr>\n",
       "      <th>292643</th>\n",
       "      <td>2024-08-01</td>\n",
       "      <td>Pakistan</td>\n",
       "      <td>30656.0</td>\n",
       "      <td>235824864</td>\n",
       "      <td>Asia</td>\n",
       "      <td>NaN</td>\n",
       "    </tr>\n",
       "    <tr>\n",
       "      <th>292644</th>\n",
       "      <td>2024-08-02</td>\n",
       "      <td>Pakistan</td>\n",
       "      <td>30656.0</td>\n",
       "      <td>235824864</td>\n",
       "      <td>Asia</td>\n",
       "      <td>NaN</td>\n",
       "    </tr>\n",
       "    <tr>\n",
       "      <th>292645</th>\n",
       "      <td>2024-08-03</td>\n",
       "      <td>Pakistan</td>\n",
       "      <td>30656.0</td>\n",
       "      <td>235824864</td>\n",
       "      <td>Asia</td>\n",
       "      <td>NaN</td>\n",
       "    </tr>\n",
       "    <tr>\n",
       "      <th>292646</th>\n",
       "      <td>2024-08-04</td>\n",
       "      <td>Pakistan</td>\n",
       "      <td>30656.0</td>\n",
       "      <td>235824864</td>\n",
       "      <td>Asia</td>\n",
       "      <td>NaN</td>\n",
       "    </tr>\n",
       "  </tbody>\n",
       "</table>\n",
       "<p>1674 rows × 6 columns</p>\n",
       "</div>"
      ],
      "text/plain": [
       "              date  location  total_deaths  population continent  \\\n",
       "290973  2020-01-05  Pakistan           0.0   235824864      Asia   \n",
       "290974  2020-01-06  Pakistan           0.0   235824864      Asia   \n",
       "290975  2020-01-07  Pakistan           0.0   235824864      Asia   \n",
       "290976  2020-01-08  Pakistan           0.0   235824864      Asia   \n",
       "290977  2020-01-09  Pakistan           0.0   235824864      Asia   \n",
       "...            ...       ...           ...         ...       ...   \n",
       "292642  2024-07-31  Pakistan       30656.0   235824864      Asia   \n",
       "292643  2024-08-01  Pakistan       30656.0   235824864      Asia   \n",
       "292644  2024-08-02  Pakistan       30656.0   235824864      Asia   \n",
       "292645  2024-08-03  Pakistan       30656.0   235824864      Asia   \n",
       "292646  2024-08-04  Pakistan       30656.0   235824864      Asia   \n",
       "\n",
       "        total_vaccinations  \n",
       "290973                 NaN  \n",
       "290974                 NaN  \n",
       "290975                 NaN  \n",
       "290976                 NaN  \n",
       "290977                 NaN  \n",
       "...                    ...  \n",
       "292642                 NaN  \n",
       "292643                 NaN  \n",
       "292644                 NaN  \n",
       "292645                 NaN  \n",
       "292646                 NaN  \n",
       "\n",
       "[1674 rows x 6 columns]"
      ]
     },
     "execution_count": 62,
     "metadata": {},
     "output_type": "execute_result"
    }
   ],
   "source": [
    "df[ df['location'] == 'Pakistan']"
   ]
  },
  {
   "cell_type": "markdown",
   "id": "aec88216-d15b-44db-8fbc-8aff0c789d73",
   "metadata": {},
   "source": [
    "### Line plot "
   ]
  },
  {
   "cell_type": "code",
   "execution_count": 63,
   "id": "18cc3a54-a46b-4520-b274-6277693934a1",
   "metadata": {},
   "outputs": [],
   "source": [
    "pakistan = df_countries[ df_countries[ 'location'] == 'Pakistan']\n",
    "pakistan = pakistan.dropna(subset = ['total_deaths'])"
   ]
  },
  {
   "cell_type": "code",
   "execution_count": 64,
   "id": "a783610e-a86c-43d1-9772-46b7bb3a8345",
   "metadata": {
    "scrolled": true
   },
   "outputs": [
    {
     "data": {
      "text/plain": [
       "['date',\n",
       " 'location',\n",
       " 'total_deaths',\n",
       " 'population',\n",
       " 'continent',\n",
       " 'total_vaccinations']"
      ]
     },
     "execution_count": 64,
     "metadata": {},
     "output_type": "execute_result"
    }
   ],
   "source": [
    "df.columns.tolist()"
   ]
  },
  {
   "cell_type": "code",
   "execution_count": null,
   "id": "7709ad64-0014-48aa-adfd-43abd8542661",
   "metadata": {},
   "outputs": [],
   "source": []
  },
  {
   "cell_type": "code",
   "execution_count": 65,
   "id": "79168f50-3813-44e8-83e6-de0913d0fca9",
   "metadata": {},
   "outputs": [
    {
     "data": {
      "image/png": "[encoded data removed]",
      "text/plain": [
       "<Figure size 1200x600 with 1 Axes>"
      ]
     },
     "metadata": {},
     "output_type": "display_data"
    }
   ],
   "source": [
    "plt.figure(figsize = (12 ,6 ))\n",
    "plt.plot(pakistan['date'],pakistan ['total_deaths'],color='red')\n",
    "plt.title('Total COVID-19 Deaths in Pakistan')\n",
    "plt.xlabel('Date')\n",
    "plt.ylabel('Total Deaths')\n",
    "plt.grid(True)\n",
    "plt.tight_layout()\n",
    "plt.show()"
   ]
  },
  {
   "cell_type": "markdown",
   "id": "2971e19b-0800-465a-977b-d6b2ca03c544",
   "metadata": {},
   "source": [
    "### Bar chart -Totall Deaths the Five Countries"
   ]
  },
  {
   "cell_type": "code",
   "execution_count": 66,
   "id": "0ee70bd0-2b2b-441f-8c43-5ca6dce9f5e5",
   "metadata": {},
   "outputs": [],
   "source": [
    "# get the latest date \n",
    "#latest_deaths = df_countries[ 'date'].max()"
   ]
  },
  {
   "cell_type": "code",
   "execution_count": 74,
   "id": "f459b65b-50ae-4d65-b549-7f69623b1891",
   "metadata": {},
   "outputs": [
    {
     "name": "stdout",
     "output_type": "stream",
     "text": [
      "             location                 date  total_deaths\n",
      "142084        Germany  2024-08-04 00:00:00      174979.0\n",
      "175222          India  2024-08-04 00:00:00      533623.0\n",
      "292646       Pakistan  2024-08-04 00:00:00       30656.0\n",
      "405124  United States  2024-08-04 00:00:00     1193165.0\n"
     ]
    }
   ],
   "source": [
    "#drop missing totall deaths \n",
    "deaths_data = df_countries.dropna(subset=['total_deaths'])\n",
    "\n",
    "#sort by date (so latest record come last )\n",
    "deaths_data = deaths_data.sort_values(by=['location','date'])\n",
    "\n",
    "# get latest record (non-null ) for each country \n",
    "\n",
    "latest_deaths = deaths_data.groupby('location').tail(1)\n",
    "\n",
    "# looks data looks good \n",
    "print(latest_deaths[['location','date','total_deaths']])\n",
    "\n"
   ]
  },
  {
   "cell_type": "markdown",
   "id": "538a9d10-7050-4448-be7d-b81fc141e14e",
   "metadata": {},
   "source": [
    "### Bar Chart"
   ]
  },
  {
   "cell_type": "code",
   "execution_count": 88,
   "id": "fe5f6c1b-4314-495b-9744-464d36ecf915",
   "metadata": {},
   "outputs": [
    {
     "data": {
      "image/png": "[encoded data removed]",
      "text/plain": [
       "<Figure size 800x500 with 1 Axes>"
      ]
     },
     "metadata": {},
     "output_type": "display_data"
    }
   ],
   "source": [
    "plt.figure(figsize=(8,5))\n",
    "plt.bar(latest_deaths['location'], latest_deaths['total_deaths'],color='orange')\n",
    "plt.title('Total COVID-19 Deaths (Per Country)')\n",
    "plt.xlabel('Country')\n",
    "plt.ylabel('Total Deaths')\n",
    "plt.tight_layout()\n",
    "plt.show()\n"
   ]
  },
  {
   "cell_type": "markdown",
   "id": "6df26d2f-64db-47fd-92a6-8724fec1c2b7",
   "metadata": {},
   "source": [
    "### Pie Chart - Vaccination Distribution"
   ]
  },
  {
   "cell_type": "code",
   "execution_count": null,
   "id": "57b85b37-8ef1-48cc-9334-ef6ddfc724f3",
   "metadata": {
    "jp-MarkdownHeadingCollapsed": true
   },
   "outputs": [],
   "source": [
    "# Drop Missing Vaccination Data \n",
    "vacc_data = df_countries.dropna(subset=['total_vaccinations'])\n",
    "\n",
    "# sort and get latest available value for each country \n",
    "vacc_data = vacc_data.sort_values( by= ['location','date'])\n",
    "latest_vacc = vacc_data.groupby('location').tail(1)\n",
    "\n"
   ]
  },
  {
   "cell_type": "markdown",
   "id": "f46e0850-b248-4e34-a5da-822f2dd1d270",
   "metadata": {},
   "source": [
    "### Plot pie Chart"
   ]
  },
  {
   "cell_type": "code",
   "execution_count": 82,
   "id": "8390b2fc-12f1-4f9e-a610-ac6723e9ec29",
   "metadata": {},
   "outputs": [
    {
     "data": {
      "image/png": "[encoded data removed]",
      "text/plain": [
       "<Figure size 700x600 with 1 Axes>"
      ]
     },
     "metadata": {},
     "output_type": "display_data"
    }
   ],
   "source": [
    "plt.figure(figsize=(7,6))\n",
    "plt.pie(latest_vacc['total_vaccinations'] , labels = latest_vacc['location'],autopct='%1.1f%%',startangle=140) \n",
    "plt.title('Vaccination Disturbution Among Five Countries')\n",
    "plt.axis('equal')\n",
    "plt.show()"
   ]
  },
  {
   "cell_type": "markdown",
   "id": "79ec4e67-bf9f-4c67-956d-60bd0b66f785",
   "metadata": {},
   "source": [
    "### Scatter Plot- Deaths Vs Population"
   ]
  },
  {
   "cell_type": "code",
   "execution_count": 90,
   "id": "98f6e3f1-4d5e-4c60-b48c-28029f213aab",
   "metadata": {},
   "outputs": [],
   "source": [
    " # Drop Missing values \n",
    "scatter_data = df_countries.dropna( subset =['total_deaths','population'])\n",
    "\n",
    "# Get Latest Data Per Country\n",
    "scatter_data = scatter_data.sort_values(by=['location','date'])\n",
    "scatter_latest = scatter_data.groupby('location').tail(1)\n",
    "\n"
   ]
  },
  {
   "cell_type": "markdown",
   "id": "f3d5b33d-c540-4cb5-bdb0-82769557d22a",
   "metadata": {},
   "source": [
    "### Plot "
   ]
  },
  {
   "cell_type": "code",
   "execution_count": 97,
   "id": "d19d2e34-dbcc-4631-a51f-248c07d6101a",
   "metadata": {},
   "outputs": [
    {
     "data": {
      "image/png": "[encoded data removed]",
      "text/plain": [
       "<Figure size 1000x600 with 1 Axes>"
      ]
     },
     "metadata": {},
     "output_type": "display_data"
    }
   ],
   "source": [
    "plt.figure(figsize=(10,6))\n",
    "plt.scatter(scatter_latest['population'],scatter_latest['total_deaths'], color='purple',s = 100)\n",
    "\n",
    "# Adding labels to points\n",
    "for i in range(scatter_latest.shape[0]):\n",
    "    plt.text(\n",
    "    scatter_latest['population'].iloc[i],\n",
    "    scatter_latest['total_deaths'].iloc[i], \n",
    "    \n",
    "    scatter_latest['location'].iloc[i],fontsize=9)\n",
    "\n",
    "plt.title('Population vs Total COVID-19 Deaths')\n",
    "plt.xlabel('Population')\n",
    "plt.table('Total Deaths')\n",
    "plt.grid(True)\n",
    "plt.tight_layout()\n",
    "plt.show()\n"
   ]
  },
  {
   "cell_type": "code",
   "execution_count": null,
   "id": "b135e2c2-8f6d-4227-bde7-3b572e2134a2",
   "metadata": {},
   "outputs": [],
   "source": []
  }
 ],
 "metadata": {
  "kernelspec": {
   "display_name": "Python 3 (ipykernel)",
   "language": "python",
   "name": "python3"
  },
  "language_info": {
   "codemirror_mode": {
    "name": "ipython",
    "version": 3
   },
   "file_extension": ".py",
   "mimetype": "text/x-python",
   "name": "python",
   "nbconvert_exporter": "python",
   "pygments_lexer": "ipython3",
   "version": "3.12.7"
  }
 },
 "nbformat": 4,
 "nbformat_minor": 5
}
